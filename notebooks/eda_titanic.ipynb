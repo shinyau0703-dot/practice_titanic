{
 "cells": [
  {
   "cell_type": "markdown",
   "id": "f7df1ab9",
   "metadata": {},
   "source": [
    "Cell 0 — 基本設定"
   ]
  },
  {
   "cell_type": "code",
   "execution_count": null,
   "id": "cb817fac",
   "metadata": {},
   "outputs": [
    {
     "name": "stdout",
     "output_type": "stream",
     "text": [
      "CWD : d:\\practive_w1\\notebooks\n",
      "PY  : d:\\practive_w1\\.venv\\Scripts\\python.exe\n",
      "Train: D:\\practive_w1\\data\\raw\\train.csv\n",
      "Test : D:\\practive_w1\\data\\raw\\test.csv\n"
     ]
    }
   ],
   "source": [
    "# 路徑/核心檢查（方便排錯）\n",
    "from pathlib import Path\n",
    "import os, sys\n",
    "print(\"CWD :\", os.getcwd())\n",
    "print(\"PY  :\", sys.executable)\n",
    "print(\"Train:\", (Path(\"../data/raw/train.csv\").resolve()))\n",
    "print(\"Test :\", (Path(\"../data/raw/test.csv\").resolve()))\n"
   ]
  },
  {
   "cell_type": "markdown",
   "id": "002f050d",
   "metadata": {},
   "source": [
    "Cell 1 — 匯入與讀檔"
   ]
  },
  {
   "cell_type": "code",
   "execution_count": 8,
   "id": "b12781fa",
   "metadata": {},
   "outputs": [
    {
     "name": "stdout",
     "output_type": "stream",
     "text": [
      "Train: (891, 12)\n",
      "Test : (418, 11)\n",
      "sub : (418, 2)\n",
      "train.Columns: ['PassengerId', 'Survived', 'Pclass', 'Name', 'Sex', 'Age', 'SibSp', 'Parch', 'Ticket', 'Fare', 'Cabin', 'Embarked']\n",
      "test.Columns: ['PassengerId', 'Pclass', 'Name', 'Sex', 'Age', 'SibSp', 'Parch', 'Ticket', 'Fare', 'Cabin', 'Embarked']\n",
      "sub.Columns: ['PassengerId', 'Survived']\n"
     ]
    }
   ],
   "source": [
    "import pandas as pd\n",
    "\n",
    "train = pd.read_csv(\"../data/raw/train.csv\")\n",
    "test  = pd.read_csv(\"../data/raw/test.csv\")\n",
    "sub   = pd.read_csv(\"../data/raw/gender_submission.csv\") \n",
    "\n",
    "print(\"Train:\", train.shape)\n",
    "print(\"Test :\", test.shape)\n",
    "print(\"sub :\", sub.shape)\n",
    "print(\"train.Columns:\", train.columns.tolist())\n",
    "print(\"test.Columns:\", test.columns.tolist())\n",
    "print(\"sub.Columns:\", sub.columns.tolist())"
   ]
  },
  {
   "cell_type": "markdown",
   "id": "26d25ca4",
   "metadata": {},
   "source": [
    "Cell 2 — 初步檢查"
   ]
  },
  {
   "cell_type": "code",
   "execution_count": 10,
   "id": "fab8402b",
   "metadata": {},
   "outputs": [
    {
     "name": "stdout",
     "output_type": "stream",
     "text": [
      "Train shape: (891, 12)\n",
      "Test  shape: (418, 11)\n",
      "\n",
      "Train 頭 5 列：\n"
     ]
    },
    {
     "data": {
      "text/html": [
       "<div>\n",
       "<style scoped>\n",
       "    .dataframe tbody tr th:only-of-type {\n",
       "        vertical-align: middle;\n",
       "    }\n",
       "\n",
       "    .dataframe tbody tr th {\n",
       "        vertical-align: top;\n",
       "    }\n",
       "\n",
       "    .dataframe thead th {\n",
       "        text-align: right;\n",
       "    }\n",
       "</style>\n",
       "<table border=\"1\" class=\"dataframe\">\n",
       "  <thead>\n",
       "    <tr style=\"text-align: right;\">\n",
       "      <th></th>\n",
       "      <th>PassengerId</th>\n",
       "      <th>Survived</th>\n",
       "      <th>Pclass</th>\n",
       "      <th>Name</th>\n",
       "      <th>Sex</th>\n",
       "      <th>Age</th>\n",
       "      <th>SibSp</th>\n",
       "      <th>Parch</th>\n",
       "      <th>Ticket</th>\n",
       "      <th>Fare</th>\n",
       "      <th>Cabin</th>\n",
       "      <th>Embarked</th>\n",
       "    </tr>\n",
       "  </thead>\n",
       "  <tbody>\n",
       "    <tr>\n",
       "      <th>0</th>\n",
       "      <td>1</td>\n",
       "      <td>0</td>\n",
       "      <td>3</td>\n",
       "      <td>Braund, Mr. Owen Harris</td>\n",
       "      <td>male</td>\n",
       "      <td>22.0</td>\n",
       "      <td>1</td>\n",
       "      <td>0</td>\n",
       "      <td>A/5 21171</td>\n",
       "      <td>7.2500</td>\n",
       "      <td>NaN</td>\n",
       "      <td>S</td>\n",
       "    </tr>\n",
       "    <tr>\n",
       "      <th>1</th>\n",
       "      <td>2</td>\n",
       "      <td>1</td>\n",
       "      <td>1</td>\n",
       "      <td>Cumings, Mrs. John Bradley (Florence Briggs Th...</td>\n",
       "      <td>female</td>\n",
       "      <td>38.0</td>\n",
       "      <td>1</td>\n",
       "      <td>0</td>\n",
       "      <td>PC 17599</td>\n",
       "      <td>71.2833</td>\n",
       "      <td>C85</td>\n",
       "      <td>C</td>\n",
       "    </tr>\n",
       "    <tr>\n",
       "      <th>2</th>\n",
       "      <td>3</td>\n",
       "      <td>1</td>\n",
       "      <td>3</td>\n",
       "      <td>Heikkinen, Miss. Laina</td>\n",
       "      <td>female</td>\n",
       "      <td>26.0</td>\n",
       "      <td>0</td>\n",
       "      <td>0</td>\n",
       "      <td>STON/O2. 3101282</td>\n",
       "      <td>7.9250</td>\n",
       "      <td>NaN</td>\n",
       "      <td>S</td>\n",
       "    </tr>\n",
       "    <tr>\n",
       "      <th>3</th>\n",
       "      <td>4</td>\n",
       "      <td>1</td>\n",
       "      <td>1</td>\n",
       "      <td>Futrelle, Mrs. Jacques Heath (Lily May Peel)</td>\n",
       "      <td>female</td>\n",
       "      <td>35.0</td>\n",
       "      <td>1</td>\n",
       "      <td>0</td>\n",
       "      <td>113803</td>\n",
       "      <td>53.1000</td>\n",
       "      <td>C123</td>\n",
       "      <td>S</td>\n",
       "    </tr>\n",
       "    <tr>\n",
       "      <th>4</th>\n",
       "      <td>5</td>\n",
       "      <td>0</td>\n",
       "      <td>3</td>\n",
       "      <td>Allen, Mr. William Henry</td>\n",
       "      <td>male</td>\n",
       "      <td>35.0</td>\n",
       "      <td>0</td>\n",
       "      <td>0</td>\n",
       "      <td>373450</td>\n",
       "      <td>8.0500</td>\n",
       "      <td>NaN</td>\n",
       "      <td>S</td>\n",
       "    </tr>\n",
       "  </tbody>\n",
       "</table>\n",
       "</div>"
      ],
      "text/plain": [
       "   PassengerId  Survived  Pclass  \\\n",
       "0            1         0       3   \n",
       "1            2         1       1   \n",
       "2            3         1       3   \n",
       "3            4         1       1   \n",
       "4            5         0       3   \n",
       "\n",
       "                                                Name     Sex   Age  SibSp  \\\n",
       "0                            Braund, Mr. Owen Harris    male  22.0      1   \n",
       "1  Cumings, Mrs. John Bradley (Florence Briggs Th...  female  38.0      1   \n",
       "2                             Heikkinen, Miss. Laina  female  26.0      0   \n",
       "3       Futrelle, Mrs. Jacques Heath (Lily May Peel)  female  35.0      1   \n",
       "4                           Allen, Mr. William Henry    male  35.0      0   \n",
       "\n",
       "   Parch            Ticket     Fare Cabin Embarked  \n",
       "0      0         A/5 21171   7.2500   NaN        S  \n",
       "1      0          PC 17599  71.2833   C85        C  \n",
       "2      0  STON/O2. 3101282   7.9250   NaN        S  \n",
       "3      0            113803  53.1000  C123        S  \n",
       "4      0            373450   8.0500   NaN        S  "
      ]
     },
     "metadata": {},
     "output_type": "display_data"
    },
    {
     "name": "stdout",
     "output_type": "stream",
     "text": [
      "\n",
      "欄位名稱：\n",
      "['PassengerId', 'Survived', 'Pclass', 'Name', 'Sex', 'Age', 'SibSp', 'Parch', 'Ticket', 'Fare', 'Cabin', 'Embarked']\n",
      "['PassengerId', 'Pclass', 'Name', 'Sex', 'Age', 'SibSp', 'Parch', 'Ticket', 'Fare', 'Cabin', 'Embarked']\n",
      "['PassengerId', 'Survived']\n"
     ]
    }
   ],
   "source": [
    "# 目標：確定資料能讀、欄位有哪些、大小\n",
    "print(\"Train shape:\", train.shape)\n",
    "print(\"Test  shape:\", test.shape)\n",
    "\n",
    "print(\"\\nTrain 頭 5 列：\")\n",
    "display(train.head())\n",
    "\n",
    "print(\"\\n欄位名稱：\")\n",
    "print(train.columns.tolist())\n",
    "print(test.columns.tolist())\n",
    "print(sub.columns.tolist())"
   ]
  },
  {
   "cell_type": "markdown",
   "id": "231ce9e1",
   "metadata": {},
   "source": [
    "Cell 3 — 資料結構 & 缺值檢查"
   ]
  },
  {
   "cell_type": "code",
   "execution_count": 13,
   "id": "7fe06e86",
   "metadata": {},
   "outputs": [
    {
     "name": "stdout",
     "output_type": "stream",
     "text": [
      "=== dtypes/info ===\n",
      "PassengerId      int64\n",
      "Survived         int64\n",
      "Pclass           int64\n",
      "Name            object\n",
      "Sex             object\n",
      "Age            float64\n",
      "SibSp            int64\n",
      "Parch            int64\n",
      "Ticket          object\n",
      "Fare           float64\n",
      "Cabin           object\n",
      "Embarked        object\n",
      "dtype: object\n",
      "\n",
      "info():\n",
      "<class 'pandas.core.frame.DataFrame'>\n",
      "RangeIndex: 891 entries, 0 to 890\n",
      "Data columns (total 12 columns):\n",
      " #   Column       Non-Null Count  Dtype  \n",
      "---  ------       --------------  -----  \n",
      " 0   PassengerId  891 non-null    int64  \n",
      " 1   Survived     891 non-null    int64  \n",
      " 2   Pclass       891 non-null    int64  \n",
      " 3   Name         891 non-null    object \n",
      " 4   Sex          891 non-null    object \n",
      " 5   Age          714 non-null    float64\n",
      " 6   SibSp        891 non-null    int64  \n",
      " 7   Parch        891 non-null    int64  \n",
      " 8   Ticket       891 non-null    object \n",
      " 9   Fare         891 non-null    float64\n",
      " 10  Cabin        204 non-null    object \n",
      " 11  Embarked     889 non-null    object \n",
      "dtypes: float64(2), int64(5), object(5)\n",
      "memory usage: 83.7+ KB\n",
      "None\n",
      "\n",
      "=== 缺值統計（數量 / 百分比）===\n"
     ]
    },
    {
     "data": {
      "text/html": [
       "<div>\n",
       "<style scoped>\n",
       "    .dataframe tbody tr th:only-of-type {\n",
       "        vertical-align: middle;\n",
       "    }\n",
       "\n",
       "    .dataframe tbody tr th {\n",
       "        vertical-align: top;\n",
       "    }\n",
       "\n",
       "    .dataframe thead th {\n",
       "        text-align: right;\n",
       "    }\n",
       "</style>\n",
       "<table border=\"1\" class=\"dataframe\">\n",
       "  <thead>\n",
       "    <tr style=\"text-align: right;\">\n",
       "      <th></th>\n",
       "      <th>missing_count</th>\n",
       "      <th>missing_pct</th>\n",
       "    </tr>\n",
       "  </thead>\n",
       "  <tbody>\n",
       "    <tr>\n",
       "      <th>Cabin</th>\n",
       "      <td>687</td>\n",
       "      <td>77.10</td>\n",
       "    </tr>\n",
       "    <tr>\n",
       "      <th>Age</th>\n",
       "      <td>177</td>\n",
       "      <td>19.87</td>\n",
       "    </tr>\n",
       "    <tr>\n",
       "      <th>Embarked</th>\n",
       "      <td>2</td>\n",
       "      <td>0.22</td>\n",
       "    </tr>\n",
       "    <tr>\n",
       "      <th>PassengerId</th>\n",
       "      <td>0</td>\n",
       "      <td>0.00</td>\n",
       "    </tr>\n",
       "    <tr>\n",
       "      <th>Name</th>\n",
       "      <td>0</td>\n",
       "      <td>0.00</td>\n",
       "    </tr>\n",
       "    <tr>\n",
       "      <th>Pclass</th>\n",
       "      <td>0</td>\n",
       "      <td>0.00</td>\n",
       "    </tr>\n",
       "    <tr>\n",
       "      <th>Survived</th>\n",
       "      <td>0</td>\n",
       "      <td>0.00</td>\n",
       "    </tr>\n",
       "    <tr>\n",
       "      <th>Sex</th>\n",
       "      <td>0</td>\n",
       "      <td>0.00</td>\n",
       "    </tr>\n",
       "    <tr>\n",
       "      <th>Parch</th>\n",
       "      <td>0</td>\n",
       "      <td>0.00</td>\n",
       "    </tr>\n",
       "    <tr>\n",
       "      <th>SibSp</th>\n",
       "      <td>0</td>\n",
       "      <td>0.00</td>\n",
       "    </tr>\n",
       "    <tr>\n",
       "      <th>Fare</th>\n",
       "      <td>0</td>\n",
       "      <td>0.00</td>\n",
       "    </tr>\n",
       "    <tr>\n",
       "      <th>Ticket</th>\n",
       "      <td>0</td>\n",
       "      <td>0.00</td>\n",
       "    </tr>\n",
       "  </tbody>\n",
       "</table>\n",
       "</div>"
      ],
      "text/plain": [
       "             missing_count  missing_pct\n",
       "Cabin                  687        77.10\n",
       "Age                    177        19.87\n",
       "Embarked                 2         0.22\n",
       "PassengerId              0         0.00\n",
       "Name                     0         0.00\n",
       "Pclass                   0         0.00\n",
       "Survived                 0         0.00\n",
       "Sex                      0         0.00\n",
       "Parch                    0         0.00\n",
       "SibSp                    0         0.00\n",
       "Fare                     0         0.00\n",
       "Ticket                   0         0.00"
      ]
     },
     "metadata": {},
     "output_type": "display_data"
    }
   ],
   "source": [
    "# 型態 & 缺值\n",
    "print(\"=== dtypes/info ===\")\n",
    "print(train.dtypes)\n",
    "print(\"\\ninfo():\")\n",
    "print(train.info())\n",
    "\n",
    "print(\"\\n=== 缺值統計（數量 / 百分比）===\")\n",
    "na_cnt = train.isna().sum().sort_values(ascending=False)\n",
    "na_pct = (train.isna().mean() * 100).round(2).sort_values(ascending=False)\n",
    "na_df = pd.DataFrame({\"missing_count\": na_cnt, \"missing_pct\": na_pct})\n",
    "display(na_df)"
   ]
  },
  {
   "cell_type": "markdown",
   "id": "d00bd2c1",
   "metadata": {},
   "source": [
    "Cell 4 — 單變數分佈（數值：Age, Fare）"
   ]
  },
  {
   "cell_type": "code",
   "execution_count": 14,
   "id": "b93b92e3",
   "metadata": {},
   "outputs": [
    {
     "data": {
      "image/png": "[encoded data removed]",
      "text/plain": [
       "<Figure size 1200x400 with 2 Axes>"
      ]
     },
     "metadata": {},
     "output_type": "display_data"
    }
   ],
   "source": [
    "import matplotlib.pyplot as plt\n",
    "\n",
    "fig, axes = plt.subplots(1, 2, figsize=(12, 4))\n",
    "axes[0].hist(train[\"Age\"].dropna(), bins=30)\n",
    "axes[0].set_title(\"Age Distribution\")\n",
    "axes[0].set_xlabel(\"Age\")\n",
    "\n",
    "axes[1].hist(train[\"Fare\"], bins=30)\n",
    "axes[1].set_title(\"Fare Distribution\")\n",
    "axes[1].set_xlabel(\"Fare\")\n",
    "\n",
    "plt.tight_layout()\n",
    "plt.show()\n"
   ]
  },
  {
   "cell_type": "markdown",
   "id": "019c38b7",
   "metadata": {},
   "source": [
    "Cell 5 — 雙變數關聯：性別 vs 生存率、艙等 vs 生存率"
   ]
  },
  {
   "cell_type": "code",
   "execution_count": 17,
   "id": "c34af2ee",
   "metadata": {},
   "outputs": [
    {
     "data": {
      "image/png": "[encoded data removed]",
      "text/plain": [
       "<Figure size 1200x400 with 2 Axes>"
      ]
     },
     "metadata": {},
     "output_type": "display_data"
    },
    {
     "name": "stdout",
     "output_type": "stream",
     "text": [
      "Survival rate by Sex:\n",
      " Sex\n",
      "female    0.742038\n",
      "male      0.188908\n",
      "Name: Survived, dtype: float64\n",
      "\n",
      "Survival rate by Pclass:\n",
      " Pclass\n",
      "1    0.629630\n",
      "2    0.472826\n",
      "3    0.242363\n",
      "Name: Survived, dtype: float64\n"
     ]
    }
   ],
   "source": [
    "import pandas as pd\n",
    "import matplotlib.pyplot as plt\n",
    "\n",
    "# 生存率 by Sex\n",
    "sex_rate = train.groupby(\"Sex\")[\"Survived\"].mean().sort_values(ascending=False)\n",
    "# 生存率 by Pclass\n",
    "pclass_rate = train.groupby(\"Pclass\")[\"Survived\"].mean().sort_index()\n",
    "\n",
    "fig, axes = plt.subplots(1, 2, figsize=(12, 4))\n",
    "\n",
    "axes[0].bar(sex_rate.index, sex_rate.values)\n",
    "axes[0].set_title(\"Survival Rate by Sex\")\n",
    "axes[0].set_ylim(0, 1)\n",
    "for x, y in zip(sex_rate.index, sex_rate.values):\n",
    "    axes[0].text(x, y + 0.02, f\"{y:.2f}\", ha=\"center\")\n",
    "\n",
    "axes[1].bar(pclass_rate.index.astype(str), pclass_rate.values)\n",
    "axes[1].set_title(\"Survival Rate by Pclass\")\n",
    "axes[1].set_ylim(0, 1)\n",
    "for x, y in zip(pclass_rate.index.astype(str), pclass_rate.values):\n",
    "    axes[1].text(x, y + 0.02, f\"{y:.2f}\", ha=\"center\")\n",
    "\n",
    "plt.tight_layout()\n",
    "plt.show()\n",
    "\n",
    "print(\"Survival rate by Sex:\\n\", sex_rate)\n",
    "print(\"\\nSurvival rate by Pclass:\\n\", pclass_rate)\n"
   ]
  }
 ],
 "metadata": {
  "kernelspec": {
   "display_name": ".venv",
   "language": "python",
   "name": "python3"
  },
  "language_info": {
   "codemirror_mode": {
    "name": "ipython",
    "version": 3
   },
   "file_extension": ".py",
   "mimetype": "text/x-python",
   "name": "python",
   "nbconvert_exporter": "python",
   "pygments_lexer": "ipython3",
   "version": "3.13.7"
  }
 },
 "nbformat": 4,
 "nbformat_minor": 5
}
